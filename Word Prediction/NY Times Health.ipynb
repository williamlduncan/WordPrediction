{
 "cells": [
  {
   "cell_type": "code",
   "execution_count": 4,
   "metadata": {},
   "outputs": [],
   "source": [
    "#Need string to read the text and numpy to do the Markov Model\n",
    "import string\n",
    "import numpy as np"
   ]
  },
  {
   "cell_type": "code",
   "execution_count": 5,
   "metadata": {},
   "outputs": [],
   "source": [
    "#Taking a dataset of health headlines that I found online - data source had several new sources - this is only NYT\n",
    "data = 'nytimeshealth.txt'"
   ]
  },
  {
   "cell_type": "code",
   "execution_count": 6,
   "metadata": {},
   "outputs": [],
   "source": [
    "#Trying to get out some of the punctuation from the words so that 'the,' and 'the' are not different, etc. \n",
    "def remove_punctuation(sentence):\n",
    "    return sentence.translate(str.maketrans('','', string.punctuation))"
   ]
  },
  {
   "cell_type": "code",
   "execution_count": 7,
   "metadata": {},
   "outputs": [],
   "source": [
    "#Setting up the word dictionary here\n",
    "def add2dict(dictionary, key, value):\n",
    "    if key not in dictionary:\n",
    "        dictionary[key] = []\n",
    "    dictionary[key].append(value)"
   ]
  },
  {
   "cell_type": "code",
   "execution_count": 8,
   "metadata": {},
   "outputs": [],
   "source": [
    "#Want to generate the probability distribution of the words\n",
    "def gen_next_prob(given_list):\n",
    "    prob_dict = {}\n",
    "    given_list_length = len(given_list)\n",
    "    for item in given_list:\n",
    "        prob_dict[item] = prob_dict.get(item, 0) + 1\n",
    "    for key, value in prob_dict.items():\n",
    "        prob_dict[key] = value / given_list_length\n",
    "    return prob_dict"
   ]
  },
  {
   "cell_type": "code",
   "execution_count": 9,
   "metadata": {},
   "outputs": [],
   "source": [
    "first_words = {}\n",
    "second_words = {}\n",
    "transitions = {}"
   ]
  },
  {
   "cell_type": "code",
   "execution_count": 12,
   "metadata": {},
   "outputs": [],
   "source": [
    "# Training the Markov model based on the data for NY Times Health Headlines\n",
    "def train_markov_model():\n",
    "    for line in open(data):\n",
    "        tokens = remove_punctuation(line.rstrip().lower()).split()\n",
    "        tokens_length = len(tokens)\n",
    "        for i in range(tokens_length):\n",
    "            token = tokens[i]\n",
    "            if i == 0:\n",
    "                first_words[token] = first_words.get(token, 0) + 1\n",
    "            else:\n",
    "                prev_token = tokens[i - 1]\n",
    "                if i == tokens_length - 1:\n",
    "                    add2dict(transitions, (prev_token, token), 'END')\n",
    "                if i == 1:\n",
    "                    add2dict(second_words, prev_token, token)\n",
    "                else:\n",
    "                    prev_prev_token = tokens[i - 2]\n",
    "                    add2dict(transitions, (prev_prev_token, prev_token), token)\n",
    "    \n",
    "    # Normalize the distributions\n",
    "    first_words_total = sum(first_words.values())\n",
    "    for key, value in first_words.items():\n",
    "        first_words[key] = value / first_words_total\n",
    "        \n",
    "    for prev_word, next_word_list in second_words.items():\n",
    "        second_words[prev_word] = gen_next_prob(next_word_list)\n",
    "        \n",
    "    for word_pair, next_word_list in transitions.items():\n",
    "        transitions[word_pair] = gen_next_prob(next_word_list)\n",
    "    \n",
    "    print('Training successful.')"
   ]
  },
  {
   "cell_type": "code",
   "execution_count": 13,
   "metadata": {},
   "outputs": [
    {
     "name": "stdout",
     "output_type": "stream",
     "text": [
      "Training successful.\n"
     ]
    }
   ],
   "source": [
    "train_markov_model()"
   ]
  },
  {
   "cell_type": "code",
   "execution_count": 14,
   "metadata": {},
   "outputs": [],
   "source": [
    "#The rest of the code will try to run in order to predict the words\n",
    "def sample_word(dictionary):\n",
    "    p0 = np.random.random()\n",
    "    cumulative = 0\n",
    "    for key, value in dictionary.items():\n",
    "        cumulative += value\n",
    "        if p0 < cumulative:\n",
    "            return key\n",
    "    assert(False)\n"
   ]
  },
  {
   "cell_type": "code",
   "execution_count": 15,
   "metadata": {},
   "outputs": [],
   "source": [
    "number_of_sentences = 10\n"
   ]
  },
  {
   "cell_type": "code",
   "execution_count": 18,
   "metadata": {},
   "outputs": [],
   "source": [
    "# Function to generate sample text\n",
    "def generate():\n",
    "    for i in range(number_of_sentences):\n",
    "        sentence = []\n",
    "        # First word\n",
    "        word0 = sample_word(first_words)\n",
    "        sentence.append(word0)\n",
    "        # Second word\n",
    "        word1 = sample_word(second_words[word0])\n",
    "        sentence.append(word1)\n",
    "        # Subsequent words until end\n",
    "        while True:\n",
    "            word2 = sample_word(transitions[(word0, word1)])\n",
    "            if word2 == 'END':\n",
    "                break\n",
    "            sentence.append(word2)\n",
    "            word0 = word1\n",
    "            word1 = word2\n",
    "        print(' '.join(sentence))\n"
   ]
  },
  {
   "cell_type": "code",
   "execution_count": 19,
   "metadata": {},
   "outputs": [
    {
     "name": "stdout",
     "output_type": "stream",
     "text": [
      "399767754305445888mon nov 11 011159 0000 2014oped contributor why do dying old people httpnewoldageblogsnytimescom20140717warmingtimesinacoldland\n",
      "399921943417073664mon nov 11 173747 0000 2014with intensive swim lessons a man attacks his fear of ebola in monrovia and is that always a good death httpnytims1twvoo3\n",
      "398681512687976448fri nov 08 041356 0000 2014montefiore’s new bronx medical center plans to unveil initiative to map the human race’ provides transparency on our guard doctor adds\n",
      "544694650234474497tue dec 16 051307 0000 2013new york state httpnytimsp3uvu9\n",
      "534409055205609472mon nov 17 185439 0000 2014study finds that teen pregnancy and abortion rates plummet with longacting female contraception httpwwwnytimescom20141002scienceteenagepregnancyandabortionratesplummetwithlongactingfemalecontraceptionstudysayshtml\n",
      "480355001118629888sat jun 21 044420 0000 2013national briefing midatlantic pennsylvania transplant recipient gets second set of new york times httppbstwimgcommediabyolyi2cqaangxnpng\n",
      "517391931027230720wed oct 01 213704 0000 2014rt paulaspan show us the money continuing care retiremt cmmty ccrc not simple but this might help httpnytims1gljzyk\n",
      "502848863078981632fri aug 22 013652 0000 2013mystery virus that’s killed 47 is tied to health care with new character alex whose dad is in short supply httpnytims1fz7qbi\n",
      "503572544096837632sun aug 24 152305 0000 2014a search for self in a large allout workout have you been paying attention this week httpnytims1rht1iz\n",
      "502851129198534656fri aug 22 161346 0000 2014not even the food industry is hurting httpnytims1mx3jhg\n"
     ]
    }
   ],
   "source": [
    "generate()"
   ]
  },
  {
   "cell_type": "code",
   "execution_count": null,
   "metadata": {},
   "outputs": [],
   "source": []
  }
 ],
 "metadata": {
  "kernelspec": {
   "display_name": "Python 3",
   "language": "python",
   "name": "python3"
  },
  "language_info": {
   "codemirror_mode": {
    "name": "ipython",
    "version": 3
   },
   "file_extension": ".py",
   "mimetype": "text/x-python",
   "name": "python",
   "nbconvert_exporter": "python",
   "pygments_lexer": "ipython3",
   "version": "3.7.1"
  }
 },
 "nbformat": 4,
 "nbformat_minor": 2
}
